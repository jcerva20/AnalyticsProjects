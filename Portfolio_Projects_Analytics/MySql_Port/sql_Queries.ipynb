{
 "cells": [
  {
   "cell_type": "markdown",
   "metadata": {},
   "source": [
    "<h1>SQL Select Queries</h1>\n",
    "<p>The difficulty of these queries snippets have a varying degree of intricacy.<br></p>\n",
    "<hr>"
   ]
  },
  {
   "cell_type": "markdown",
   "metadata": {},
   "source": [
    "<h3>Query 1:</h3>\n",
    "<p>\n",
    "Skills shown:\n",
    "<ul>\n",
    "    <li>CTEs</li>\n",
    "    <li>Partition by</li>\n",
    "    <li>Aggregations</li>\n",
    "</ul>\n",
    "</p>\n",
    "<p>\n",
    "<h5>Problem:</h5>\n",
    "<p>Calculate the month-over-month percentage change in revenue</p>\n",
    "</p>\n",
    "<p>Query:</p>\n",
    "\n"
   ]
  },
  {
   "cell_type": "code",
   "execution_count": null,
   "metadata": {
    "vscode": {
     "languageId": "sql"
    }
   },
   "outputs": [],
   "source": [
    "with t2 as (select\n",
    "            date_format(created_at,\"%Y-%m\") as date,\n",
    "            sum(value) as revenue\n",
    "            from sf_transactions\n",
    "            group by date),\n",
    "t3 as (select *, \n",
    "    lag(revenue) over(order by date) as last_month_rev\n",
    "    from t2)\n",
    "    \n",
    "select date,\n",
    "round(((revenue - last_month_rev)/last_month_rev)*100,2) as revenue_difference\n",
    "from t3"
   ]
  },
  {
   "cell_type": "markdown",
   "metadata": {},
   "source": [
    "Result:"
   ]
  },
  {
   "cell_type": "markdown",
   "metadata": {},
   "source": [
    "<img src=\"Select_Queries_images//monthly_Percentage_Difference_h.PNG\" alt=\"Result Image\">"
   ]
  },
  {
   "cell_type": "markdown",
   "metadata": {},
   "source": [
    "<hr>\n",
    "<h3>Query 2</h3>\n",
    "<p>\n",
    "Skills shown:\n",
    "<ul>\n",
    "    <li>Joining multiple tables together</li>\n",
    "    <li>Group by</li>\n",
    "    <li>Aggregation with If statement</li>\n",
    "</ul>\n",
    "</p>\n",
    "<p>\n",
    "<h5>Problem:</h5>\n",
    "<p>Calculate the total number of downloads for paying and non-paying users by date. Include only records where non-paying customers have more downloads than paying customers.</p>\n",
    "</p>\n",
    "<p>Query:</p>\n"
   ]
  },
  {
   "cell_type": "code",
   "execution_count": null,
   "metadata": {
    "vscode": {
     "languageId": "sql"
    }
   },
   "outputs": [],
   "source": [
    "select\n",
    "    date,\n",
    "    sum(IF(paying_customer =  \"no\",  downloads, 0)) as non_paying,\n",
    "    sum(IF(paying_customer = \"yes\", downloads, 0)) as paying\n",
    "from ms_user_dimension as us\n",
    "join ms_download_facts as facts\n",
    "    on facts.user_id = us.user_id\n",
    "join ms_acc_dimension as acc\n",
    "    on us.acc_id = acc.acc_id\n",
    "group by date\n",
    "having non_paying > paying\n",
    "order by date asc"
   ]
  },
  {
   "cell_type": "markdown",
   "metadata": {},
   "source": [
    "Result:<br>\n",
    "<img src=\"Select_Queries_images//premium_vs_freemium_h.PNG\" alt=\"Query Result\" >"
   ]
  },
  {
   "cell_type": "markdown",
   "metadata": {},
   "source": [
    "<hr>\n",
    "<h3>Query 3</h3>\n",
    "<p>\n",
    "Skills shown:\n",
    "<ul>\n",
    "    <li>Union Function</li>\n",
    "    <li>Sub-query</li>\n",
    "    <li>Aggregation with If statement</li>\n",
    "    <li>Group by/Order by functions</li>\n",
    "</ul>\n",
    "</p>\n",
    "<p>\n",
    "<h5>Problem:</h5>\n",
    "<p>Find the popularity percentage for each user. The popularity percentage is defined as the total number of friends the user has divided by the total number of users on the platform</p>\n",
    "</p>\n",
    "<p>Query:</p>\n"
   ]
  },
  {
   "cell_type": "code",
   "execution_count": null,
   "metadata": {
    "vscode": {
     "languageId": "sql"
    }
   },
   "outputs": [],
   "source": [
    "with friends as(select user1 from facebook_friends\n",
    "                union all\n",
    "                select user2 from facebook_friends)\n",
    "select \n",
    "    user1,\n",
    "    (count(user1)/((select count(distinct(user1)) as total_people \n",
    "        from friends)) * 100) as popularity\n",
    "    from friends\n",
    "    group by user1\n",
    "    order by user1"
   ]
  },
  {
   "cell_type": "markdown",
   "metadata": {},
   "source": [
    "Result(Limit of 5):<br>\n",
    "<img src=\"Select_Queries_images//Popularity_Percentage_h.PNG\" alt=\"Query result\">"
   ]
  },
  {
   "cell_type": "markdown",
   "metadata": {},
   "source": [
    "<hr>\n",
    "<h3>Query 4</h3>\n",
    "<p>\n",
    "Skills shown:\n",
    "<ul>\n",
    "    <li>Union Function</li>\n",
    "    <li>Like function/Wildcard Characters</li>\n",
    "    <li>Sub-Query</li>\n",
    "</ul>\n",
    "</p>\n",
    "<p>\n",
    "<h5>Problem:</h5>\n",
    "<p>\n",
    "    Find the number of times the words 'bull' and 'bear' occur in the contents<br>\n",
    "    <em>Words like <strong>\"bullish\"</strong> should not be included in the count</em>\n",
    "</p>\n",
    "</p>\n",
    "<p>Query:</p>"
   ]
  },
  {
   "cell_type": "code",
   "execution_count": null,
   "metadata": {
    "vscode": {
     "languageId": "sql"
    }
   },
   "outputs": [],
   "source": [
    "select \"bull\" as word, (select count(contents) from google_file_store where lower(contents) like \"% bull %\" ) as count\n",
    "union \n",
    "select \"bear\" as word, (select count(contents) from google_file_store where lower(contents) like \"% bear %\") as count"
   ]
  },
  {
   "cell_type": "markdown",
   "metadata": {},
   "source": [
    "Result<br>\n",
    "<img src=\"Select_Queries_images//Counting_instances_in_Text_h.PNG\" alt=\"Query Result\">"
   ]
  },
  {
   "cell_type": "markdown",
   "metadata": {},
   "source": [
    "<hr>\n",
    "<h3>Query 5</h3>\n",
    "<p>\n",
    "Skills shown:\n",
    "<ul>\n",
    "    <li>CTEs</li>\n",
    "    <li>Case Function</li>\n",
    "    <li>Aggregations</li>\n",
    "    <li>Group by/Order by functions</li>\n",
    "</ul>\n",
    "</p>\n",
    "<p>\n",
    "<h5>Problem:</h5>\n",
    "<p>\n",
    "    Find the minimum, average, maximum rental prices for each host’s popularity rating.<br>\n",
    "    <em>There is no Unique id for Renters</em>\n",
    "</p>\n",
    "</p>\n",
    "<p>Query:</p>"
   ]
  },
  {
   "cell_type": "code",
   "execution_count": null,
   "metadata": {
    "vscode": {
     "languageId": "plaintext"
    }
   },
   "outputs": [],
   "source": [
    "with host_pop as(select CONCAT(price, room_type, host_since, zipcode, number_of_reviews) as host_id,\n",
    "                    price,\n",
    "                    case\n",
    "                        when number_of_reviews = 0 then \"New\"\n",
    "                        when number_of_reviews between 1 and 5 then \"Rising\"\n",
    "                        when number_of_reviews between 6 and 15 then \"Trending Up\"\n",
    "                        when number_of_reviews between 16 and 40 then \"Popular\"\n",
    "                        when number_of_reviews > 40 then \"Hot\"\n",
    "                    end as pop_rating\n",
    "                    from airbnb_host_searches\n",
    "                    group by host_id)\n",
    "\n",
    "select \n",
    "    pop_rating,\n",
    "    min(price) as min_price,\n",
    "    avg(price) as average_price,\n",
    "    max(price) as max_price\n",
    "from host_pop\n",
    "group by pop_rating\n",
    "order by average_price desc"
   ]
  },
  {
   "cell_type": "markdown",
   "metadata": {},
   "source": [
    "<img src=\"Select_Queries_images//Host_pop_rental_prices_h.PNG\" alt=\"Query Result\">"
   ]
  },
  {
   "cell_type": "markdown",
   "metadata": {},
   "source": [
    "<hr>\n",
    "<h3>Query 6</h3>\n",
    "<p>\n",
    "Skills shown:\n",
    "<ul>\n",
    "    <li>CTEs</li>\n",
    "    <li>Aggregations/Window Functions</li>\n",
    "    <li>Partition By</li>\n",
    "</ul>\n",
    "</p>\n",
    "<p>\n",
    "<h5>Problem:</h5>\n",
    "<p>\n",
    "    Users that make their first in-app purchase are placed in a marketing campaign where they see call-to-actions for more in-app purchases. Find the number of users that made additional in-app purchases due to the success of the marketing campaign.<br><br>\n",
    "    Case:<br>\n",
    "    <em>The marketing campaign doesn't start until one day after the initial in-app purchase so users that only made one or multiple purchases on the first day do not count, nor do we count users that over time purchase only the products they purchased on the first day.</em>\n",
    "</p>\n",
    "</p>\n",
    "<p>Query:</p>"
   ]
  },
  {
   "cell_type": "code",
   "execution_count": null,
   "metadata": {
    "vscode": {
     "languageId": "sql"
    }
   },
   "outputs": [],
   "source": [
    "with sbqry as (select\n",
    "                    user_id,\n",
    "                    min(created_at) over(partition by user_id) as first_item_purchase_date,\n",
    "                    min(created_at) over(partition by user_id, product_id) as item_purchase_date\n",
    "                From marketing_campaign\n",
    "                    )\n",
    "\n",
    "select count(distinct(user_id)) as users\n",
    "From sbqry\n",
    "where item_purchase_date > first_item_purchase_date"
   ]
  },
  {
   "cell_type": "markdown",
   "metadata": {},
   "source": [
    "Result:<br>\n",
    "<strong>23</strong>"
   ]
  },
  {
   "cell_type": "markdown",
   "metadata": {},
   "source": [
    "<hr>\n",
    "<h3>Query 7</h3>\n",
    "<p>\n",
    "Skills shown:\n",
    "<ul>\n",
    "    <li>Window Function</li>\n",
    "    <li>Where clause</li>\n",
    "</ul>\n",
    "</p>\n",
    "<p>\n",
    "<h5>Problem:</h5>\n",
    "<p>\n",
    "     Identify returning active users<br><br>\n",
    "     Case:<br>\n",
    "     <em>A returning active user is a user that has made a second purchase within 7 days of any other of their purchases</em>\n",
    "</p>\n",
    "</p>\n",
    "<p>Query:</p>"
   ]
  },
  {
   "cell_type": "code",
   "execution_count": null,
   "metadata": {
    "vscode": {
     "languageId": "plaintext"
    }
   },
   "outputs": [],
   "source": [
    "select distinct(user_id)\n",
    "from\n",
    "    (select *, \n",
    "    lead(created_at) over(partition by user_id order by created_at) as following_purchase_date\n",
    "    from amazon_transactions) as purchase_history\n",
    "where abs(datediff(created_at,following_purchase_date)) <= 7"
   ]
  },
  {
   "cell_type": "markdown",
   "metadata": {},
   "source": [
    "Result(limit of 6):<br>\n",
    "<img src=\"Select_Queries_images//user_purchases_m.PNG\" alt=\"Query Result\">"
   ]
  },
  {
   "cell_type": "markdown",
   "metadata": {},
   "source": [
    "<hr>\n",
    "<h3>Query 8</h3>\n",
    "<p>\n",
    "Skills shown:\n",
    "<ul>\n",
    "    <li>CTEs</li>\n",
    "    <li>Unions</li>\n",
    "    <li>Aggregation function</li>\n",
    "    <li>Where Clause</li>\n",
    "</ul>\n",
    "</p>\n",
    "<p>\n",
    "<h5>Problem:</h5>\n",
    "<p>\n",
    "     Find the date with the highest total energy consumption from the data centers\n",
    "</p>\n",
    "</p>\n",
    "<p>Query:</p>"
   ]
  },
  {
   "cell_type": "code",
   "execution_count": null,
   "metadata": {
    "vscode": {
     "languageId": "plaintext"
    }
   },
   "outputs": [],
   "source": [
    "with all_energy \n",
    "as(\n",
    "    select * \n",
    "    from fb_eu_energy as eu\n",
    "    \n",
    "    union all \n",
    "    \n",
    "    select * \n",
    "    from fb_asia_energy\n",
    "    \n",
    "    union all\n",
    "    \n",
    "    select * \n",
    "    from fb_na_energy),\n",
    "    \n",
    "sum_energy \n",
    "as (\n",
    "    select date, sum(consumption) as consumption\n",
    "    from all_energy\n",
    "    group by date)\n",
    "\n",
    "select date, consumption\n",
    "from sum_energy\n",
    "where consumption in (select max(consumption) from sum_energy)\n"
   ]
  },
  {
   "cell_type": "markdown",
   "metadata": {},
   "source": [
    "Result:<br>\n",
    "<img src=\"Select_Queries_images//highest_energy_consumption_m.PNG\" alt=\"Query Result\">"
   ]
  },
  {
   "cell_type": "markdown",
   "metadata": {},
   "source": [
    "<hr>\n",
    "<h3>Query 9</h3>\n",
    "<p>\n",
    "Skills shown:\n",
    "<ul>\n",
    "    <li>CTE</li>\n",
    "    <li>Window Function</li>\n",
    "    <li>Partition by</li>\n",
    "</ul>\n",
    "</p>\n",
    "<p>\n",
    "<h5>Problem:</h5>\n",
    "<p>\n",
    "     Find the employee with the highest salary per department.\n",
    "</p>\n",
    "</p>\n",
    "<p>Query:</p>"
   ]
  },
  {
   "cell_type": "code",
   "execution_count": null,
   "metadata": {
    "vscode": {
     "languageId": "plaintext"
    }
   },
   "outputs": [],
   "source": [
    "with ranked as (\n",
    "    select\n",
    "        department,\n",
    "        first_name,\n",
    "        salary,\n",
    "        rank() over(partition by department order by salary desc) as dep_rank\n",
    "        from employee\n",
    "        )\n",
    "\n",
    "select department,first_name,salary\n",
    "from ranked\n",
    "where dep_rank = 1"
   ]
  },
  {
   "cell_type": "markdown",
   "metadata": {},
   "source": [
    "Result:<br>\n",
    "<img src=\"Select_Queries_images//Highest_salary_Department_m.PNG\" alt=\"Query Result\">"
   ]
  },
  {
   "cell_type": "markdown",
   "metadata": {},
   "source": [
    "<hr>\n",
    "<h3>Query 10</h3>\n",
    "<p>\n",
    "Skills shown:\n",
    "<ul>\n",
    "    <li>Case Function</li>\n",
    "    <li>Like/Regex </li>\n",
    "    <li>Group by</li>\n",
    "</ul>\n",
    "</p>\n",
    "<p>\n",
    "<h5>Problem:</h5>\n",
    "<p>\n",
    "     Classify each business as either a restaurant, cafe, school, or other.\n",
    "</p>\n",
    "</p>\n",
    "<p>Query:</p>"
   ]
  },
  {
   "cell_type": "code",
   "execution_count": null,
   "metadata": {
    "vscode": {
     "languageId": "plaintext"
    }
   },
   "outputs": [],
   "source": [
    "select business_name,\n",
    "    case\n",
    "        when business_name like \"%restaurant%\" then \"restaurant\"\n",
    "        when business_name like \"%cafe%\" or business_name like \"%café%\" or business_name like \"%coffee%\" then \"cafe\"\n",
    "        when business_name like \"%School%\" then \"school\"\n",
    "        else \"other\" \n",
    "        end as classification\n",
    "from sf_restaurant_health_violations\n",
    "group by business_name;"
   ]
  },
  {
   "cell_type": "markdown",
   "metadata": {},
   "source": [
    "Result(Limit of 13):<br>\n",
    "<img src=\"Select_Queries_images//Classify_bussiness_type_m.PNG\" alt=\"Query Result\">"
   ]
  }
 ],
 "metadata": {
  "language_info": {
   "name": "python"
  },
  "orig_nbformat": 4
 },
 "nbformat": 4,
 "nbformat_minor": 2
}
